{
  "nbformat": 4,
  "nbformat_minor": 0,
  "metadata": {
    "colab": {
      "provenance": [],
      "authorship_tag": "ABX9TyMT7ZvbkzpVCi2KTdEwbxWZ",
      "include_colab_link": true
    },
    "kernelspec": {
      "name": "python3",
      "display_name": "Python 3"
    },
    "language_info": {
      "name": "python"
    }
  },
  "cells": [
    {
      "cell_type": "markdown",
      "metadata": {
        "id": "view-in-github",
        "colab_type": "text"
      },
      "source": [
        "<a href=\"https://colab.research.google.com/github/EmanMasood02/Student_Performance_Tracker/blob/main/OOP_Project.ipynb\" target=\"_parent\"><img src=\"https://colab.research.google.com/assets/colab-badge.svg\" alt=\"Open In Colab\"/></a>"
      ]
    },
    {
      "cell_type": "code",
      "source": [
        "class Student:\n",
        "    def __init__(self, name, scores):\n",
        "\n",
        "        self.name = name\n",
        "        self.scores = scores\n",
        "\n",
        "    def calculate_average(self):\n",
        "\n",
        "        return sum(self.scores) / len(self.scores)\n",
        "\n",
        "    def is_passing(self, passing_score=40):\n",
        "\n",
        "        for score in self.scores:\n",
        "            if score < passing_score:\n",
        "                return False\n",
        "        return True\n",
        "\n",
        "class PerformanceTracker:\n",
        "    def __init__(self):\n",
        "\n",
        "        self.students = {}\n",
        "\n",
        "    def add_student(self, name, scores):\n",
        "\n",
        "        self.students[name] = Student(name, scores)\n",
        "\n",
        "    def calculate_class_average(self):\n",
        "\n",
        "        total_scores = 0\n",
        "        total_students = len(self.students)\n",
        "        for student in self.students.values():\n",
        "            total_scores += sum(student.scores)\n",
        "        return total_scores / (total_students * len(student.scores))\n",
        "\n",
        "    def display_student_performance(self):\n",
        "\n",
        "        for student in self.students.values():\n",
        "            average = student.calculate_average()\n",
        "            passing_status = \"Passing\" if student.is_passing() else \"Failing\"\n",
        "            print(f\"Student: {student.name}, Average Score: {average:.2f}, Status: {passing_status}\")\n",
        "\n",
        "    def display_class_average(self):\n",
        "\n",
        "        class_average = self.calculate_class_average()\n",
        "        print(f\"Class Average: {class_average:.2f}\")\n",
        "\n",
        "def main():\n",
        "    tracker = PerformanceTracker()\n",
        "\n",
        "    while True:\n",
        "\n",
        "        name = input(\"Enter the student's name (or type 'exit' to stop): \").strip()\n",
        "\n",
        "        if name.lower() == 'exit':\n",
        "            break\n",
        "\n",
        "        try:\n",
        "\n",
        "            scores = []\n",
        "            for subject in ['Math', 'Science', 'English']:\n",
        "                score = int(input(f\"Enter {subject} score for {name}: \"))\n",
        "                scores.append(score)\n",
        "\n",
        "\n",
        "            tracker.add_student(name, scores)\n",
        "\n",
        "        except ValueError:\n",
        "            print(\"Please enter valid numbers for the scores.\")\n",
        "\n",
        "    tracker.display_student_performance()\n",
        "\n",
        "\n",
        "    tracker.display_class_average()\n",
        "\n",
        "if __name__ == \"__main__\":\n",
        "    main()\n"
      ],
      "metadata": {
        "colab": {
          "base_uri": "https://localhost:8080/"
        },
        "id": "AbxdqTKqpU6L",
        "outputId": "f0c3b731-bf52-4496-c2e9-ff6089d5a10d"
      },
      "execution_count": 3,
      "outputs": [
        {
          "output_type": "stream",
          "name": "stdout",
          "text": [
            "Enter the student's name (or type 'exit' to stop): Eman\n",
            "Enter Math score for Eman: 98\n",
            "Enter Science score for Eman: 88\n",
            "Enter English score for Eman: 76\n",
            "Enter the student's name (or type 'exit' to stop): exit\n",
            "Student: Eman, Average Score: 87.33, Status: Passing\n",
            "Class Average: 87.33\n"
          ]
        }
      ]
    }
  ]
}